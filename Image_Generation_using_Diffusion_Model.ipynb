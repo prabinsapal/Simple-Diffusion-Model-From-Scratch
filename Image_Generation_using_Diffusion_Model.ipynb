{
 "cells": [
  {
   "cell_type": "code",
   "execution_count": 4,
   "metadata": {
    "executionInfo": {
     "elapsed": 6391,
     "status": "ok",
     "timestamp": 1706947623447,
     "user": {
      "displayName": "Prabin Sapal",
      "userId": "04405762510153688454"
     },
     "user_tz": -345
    },
    "id": "Ft3GBow8eHrM"
   },
   "outputs": [],
   "source": [
    "import numpy as np\n",
    "import torch\n",
    "import torch.nn as nn\n",
    "from PIL import Image\n",
    "import numpy as np\n",
    "from tqdm import tqdm\n",
    "\n",
    "# Custom libraries\n",
    "import utils\n",
    "from diffusion import DiffusionModel"
   ]
  },
  {
   "cell_type": "code",
   "execution_count": 13,
   "metadata": {
    "executionInfo": {
     "elapsed": 442,
     "status": "ok",
     "timestamp": 1706947698223,
     "user": {
      "displayName": "Prabin Sapal",
      "userId": "04405762510153688454"
     },
     "user_tz": -345
    },
    "id": "742tcgYDfhsq"
   },
   "outputs": [],
   "source": [
    "#! Settings\n",
    "#DEVICE = \"cuda:0\"\n",
    "DEVICE = torch.device(\"mps\" if torch.backends.mps.is_available() else \"cpu\")\n",
    "LR = 0.001\n",
    "NO_EPOCHS = 10000\n",
    "BATCH_SIZE = 5\n",
    "PRINT_FREQUENCY = 100\n",
    "VERBOSE = True\n",
    "MARGIN = 0.004\n",
    "IMAGE_SHAPE = (64, 64)\n",
    "\n",
    "SAVE_MODEL_DIR = \"/Volumes/ML/Simple-Diffusion-Model-From-Scratch/\""
   ]
  },
  {
   "cell_type": "code",
   "execution_count": 7,
   "metadata": {},
   "outputs": [
    {
     "name": "stdout",
     "output_type": "stream",
     "text": [
      "True\n"
     ]
    }
   ],
   "source": [
    "print(torch.backends.mps.is_available())  # Should return True if MPS is supported\n"
   ]
  },
  {
   "cell_type": "code",
   "execution_count": 10,
   "metadata": {
    "colab": {
     "base_uri": "https://localhost:8080/"
    },
    "executionInfo": {
     "elapsed": 5,
     "status": "ok",
     "timestamp": 1706947749143,
     "user": {
      "displayName": "Prabin Sapal",
      "userId": "04405762510153688454"
     },
     "user_tz": -345
    },
    "id": "BXH-l1_AGbtG",
    "outputId": "80b2fb44-c7f9-4c1b-af7a-68dcf4f178f3"
   },
   "outputs": [
    {
     "name": "stdout",
     "output_type": "stream",
     "text": [
      "Input Batch Images: torch.Size([5, 3, 64, 64]) torch.float32 mps:0\n",
      "Input Batch Labels: torch.Size([5, 1]) torch.float32 mps:0\n"
     ]
    }
   ],
   "source": [
    "#! Prepare data\n",
    "img0 = Image.open(\"data/players/beckham.jpg\").convert('RGB')\n",
    "img1 = Image.open(\"data/players/messi.jpg\").convert('RGB')\n",
    "img2 = Image.open(\"data/players/ronaldo.png\").convert('RGB')\n",
    "img3 = Image.open(\"data/players/haaland.jpg\").convert('RGB')\n",
    "img4 = Image.open(\"data/players/silva.jpg\").convert('RGB')\n",
    "\n",
    "\n",
    "img0_tensor = utils.transform(img0)\n",
    "img1_tensor = utils.transform(img1)\n",
    "img2_tensor = utils.transform(img2)\n",
    "img3_tensor = utils.transform(img3)\n",
    "img4_tensor = utils.transform(img4)\n",
    "\n",
    "\n",
    "batch = torch.stack([img0_tensor, img1_tensor, img2_tensor, img3_tensor, img4_tensor]).to(DEVICE)\n",
    "label = torch.tensor([0,1,2,3,4]).reshape(-1,1).float().to(DEVICE)\n",
    "\n",
    "print(\"Input Batch Images:\", batch.shape, batch.dtype, batch.device)\n",
    "print(\"Input Batch Labels:\", label.shape, label.dtype, label.device)"
   ]
  },
  {
   "cell_type": "code",
   "execution_count": 11,
   "metadata": {
    "colab": {
     "base_uri": "https://localhost:8080/"
    },
    "executionInfo": {
     "elapsed": 1210,
     "status": "ok",
     "timestamp": 1706947756480,
     "user": {
      "displayName": "Prabin Sapal",
      "userId": "04405762510153688454"
     },
     "user_tz": -345
    },
    "id": "g51ZOg5oFxnM",
    "outputId": "94f372a6-e945-4d4d-bb17-960c5c74d6dc",
    "scrolled": true
   },
   "outputs": [
    {
     "name": "stdout",
     "output_type": "stream",
     "text": [
      "Num params:  62633667\n"
     ]
    },
    {
     "data": {
      "text/plain": [
       "UNet(\n",
       "  (conv1): Conv2d(3, 64, kernel_size=(3, 3), stride=(1, 1), padding=(1, 1))\n",
       "  (relu): ReLU()\n",
       "  (downscales): ModuleList(\n",
       "    (0): Block(\n",
       "      (time_embedding): SinusoidalPositionEmbeddings()\n",
       "      (conv1): Conv2d(64, 128, kernel_size=(3, 3), stride=(1, 1), padding=(1, 1))\n",
       "      (final): Conv2d(128, 128, kernel_size=(4, 4), stride=(2, 2), padding=(1, 1))\n",
       "      (bnorm1): BatchNorm2d(128, eps=1e-05, momentum=0.1, affine=True, track_running_stats=True)\n",
       "      (bnorm2): BatchNorm2d(128, eps=1e-05, momentum=0.1, affine=True, track_running_stats=True)\n",
       "      (conv2): Conv2d(128, 128, kernel_size=(3, 3), stride=(1, 1), padding=(1, 1))\n",
       "      (time_mlp): Linear(in_features=100, out_features=128, bias=True)\n",
       "      (relu): ReLU()\n",
       "    )\n",
       "    (1): Block(\n",
       "      (time_embedding): SinusoidalPositionEmbeddings()\n",
       "      (conv1): Conv2d(128, 256, kernel_size=(3, 3), stride=(1, 1), padding=(1, 1))\n",
       "      (final): Conv2d(256, 256, kernel_size=(4, 4), stride=(2, 2), padding=(1, 1))\n",
       "      (bnorm1): BatchNorm2d(256, eps=1e-05, momentum=0.1, affine=True, track_running_stats=True)\n",
       "      (bnorm2): BatchNorm2d(256, eps=1e-05, momentum=0.1, affine=True, track_running_stats=True)\n",
       "      (conv2): Conv2d(256, 256, kernel_size=(3, 3), stride=(1, 1), padding=(1, 1))\n",
       "      (time_mlp): Linear(in_features=100, out_features=256, bias=True)\n",
       "      (relu): ReLU()\n",
       "    )\n",
       "    (2): Block(\n",
       "      (time_embedding): SinusoidalPositionEmbeddings()\n",
       "      (conv1): Conv2d(256, 512, kernel_size=(3, 3), stride=(1, 1), padding=(1, 1))\n",
       "      (final): Conv2d(512, 512, kernel_size=(4, 4), stride=(2, 2), padding=(1, 1))\n",
       "      (bnorm1): BatchNorm2d(512, eps=1e-05, momentum=0.1, affine=True, track_running_stats=True)\n",
       "      (bnorm2): BatchNorm2d(512, eps=1e-05, momentum=0.1, affine=True, track_running_stats=True)\n",
       "      (conv2): Conv2d(512, 512, kernel_size=(3, 3), stride=(1, 1), padding=(1, 1))\n",
       "      (time_mlp): Linear(in_features=100, out_features=512, bias=True)\n",
       "      (relu): ReLU()\n",
       "    )\n",
       "    (3): Block(\n",
       "      (time_embedding): SinusoidalPositionEmbeddings()\n",
       "      (conv1): Conv2d(512, 1024, kernel_size=(3, 3), stride=(1, 1), padding=(1, 1))\n",
       "      (final): Conv2d(1024, 1024, kernel_size=(4, 4), stride=(2, 2), padding=(1, 1))\n",
       "      (bnorm1): BatchNorm2d(1024, eps=1e-05, momentum=0.1, affine=True, track_running_stats=True)\n",
       "      (bnorm2): BatchNorm2d(1024, eps=1e-05, momentum=0.1, affine=True, track_running_stats=True)\n",
       "      (conv2): Conv2d(1024, 1024, kernel_size=(3, 3), stride=(1, 1), padding=(1, 1))\n",
       "      (time_mlp): Linear(in_features=100, out_features=1024, bias=True)\n",
       "      (relu): ReLU()\n",
       "    )\n",
       "  )\n",
       "  (upscales): ModuleList(\n",
       "    (0): Block(\n",
       "      (time_embedding): SinusoidalPositionEmbeddings()\n",
       "      (conv1): Conv2d(2048, 512, kernel_size=(3, 3), stride=(1, 1), padding=(1, 1))\n",
       "      (final): ConvTranspose2d(512, 512, kernel_size=(4, 4), stride=(2, 2), padding=(1, 1))\n",
       "      (bnorm1): BatchNorm2d(512, eps=1e-05, momentum=0.1, affine=True, track_running_stats=True)\n",
       "      (bnorm2): BatchNorm2d(512, eps=1e-05, momentum=0.1, affine=True, track_running_stats=True)\n",
       "      (conv2): Conv2d(512, 512, kernel_size=(3, 3), stride=(1, 1), padding=(1, 1))\n",
       "      (time_mlp): Linear(in_features=100, out_features=512, bias=True)\n",
       "      (relu): ReLU()\n",
       "    )\n",
       "    (1): Block(\n",
       "      (time_embedding): SinusoidalPositionEmbeddings()\n",
       "      (conv1): Conv2d(1024, 256, kernel_size=(3, 3), stride=(1, 1), padding=(1, 1))\n",
       "      (final): ConvTranspose2d(256, 256, kernel_size=(4, 4), stride=(2, 2), padding=(1, 1))\n",
       "      (bnorm1): BatchNorm2d(256, eps=1e-05, momentum=0.1, affine=True, track_running_stats=True)\n",
       "      (bnorm2): BatchNorm2d(256, eps=1e-05, momentum=0.1, affine=True, track_running_stats=True)\n",
       "      (conv2): Conv2d(256, 256, kernel_size=(3, 3), stride=(1, 1), padding=(1, 1))\n",
       "      (time_mlp): Linear(in_features=100, out_features=256, bias=True)\n",
       "      (relu): ReLU()\n",
       "    )\n",
       "    (2): Block(\n",
       "      (time_embedding): SinusoidalPositionEmbeddings()\n",
       "      (conv1): Conv2d(512, 128, kernel_size=(3, 3), stride=(1, 1), padding=(1, 1))\n",
       "      (final): ConvTranspose2d(128, 128, kernel_size=(4, 4), stride=(2, 2), padding=(1, 1))\n",
       "      (bnorm1): BatchNorm2d(128, eps=1e-05, momentum=0.1, affine=True, track_running_stats=True)\n",
       "      (bnorm2): BatchNorm2d(128, eps=1e-05, momentum=0.1, affine=True, track_running_stats=True)\n",
       "      (conv2): Conv2d(128, 128, kernel_size=(3, 3), stride=(1, 1), padding=(1, 1))\n",
       "      (time_mlp): Linear(in_features=100, out_features=128, bias=True)\n",
       "      (relu): ReLU()\n",
       "    )\n",
       "    (3): Block(\n",
       "      (time_embedding): SinusoidalPositionEmbeddings()\n",
       "      (conv1): Conv2d(256, 64, kernel_size=(3, 3), stride=(1, 1), padding=(1, 1))\n",
       "      (final): ConvTranspose2d(64, 64, kernel_size=(4, 4), stride=(2, 2), padding=(1, 1))\n",
       "      (bnorm1): BatchNorm2d(64, eps=1e-05, momentum=0.1, affine=True, track_running_stats=True)\n",
       "      (bnorm2): BatchNorm2d(64, eps=1e-05, momentum=0.1, affine=True, track_running_stats=True)\n",
       "      (conv2): Conv2d(64, 64, kernel_size=(3, 3), stride=(1, 1), padding=(1, 1))\n",
       "      (time_mlp): Linear(in_features=100, out_features=64, bias=True)\n",
       "      (relu): ReLU()\n",
       "    )\n",
       "  )\n",
       "  (output): Conv2d(64, 3, kernel_size=(1, 1), stride=(1, 1))\n",
       ")"
      ]
     },
     "execution_count": 11,
     "metadata": {},
     "output_type": "execute_result"
    }
   ],
   "source": [
    "class UNet(nn.Module):\n",
    "    def __init__(self):\n",
    "      super().__init__()\n",
    "      # Complete code here\n",
    "      channels = (64, 128, 256, 512, 1024)\n",
    "      down_channels = list(reversed(channels))\n",
    "      time_emb_dim = 32\n",
    "      label = False\n",
    "\n",
    "      self.conv1 = nn.Conv2d(3, channels[0], 3, padding=1)\n",
    "      self.relu = nn.ReLU()\n",
    "\n",
    "      #DownScale\n",
    "      self.downscales = nn.ModuleList([utils.Block(channels[i], channels[i+1], 100, label) for i in range(len(channels)-1)])\n",
    "\n",
    "      #UpScale\n",
    "      self.upscales = nn.ModuleList([utils.Block(down_channels[i], down_channels[i+1], 100, label, downsample=False) for i in range(len(channels)-1)])\n",
    "\n",
    "      #output\n",
    "      self.output = nn.Conv2d(64, 3, 1)\n",
    "\n",
    "\n",
    "    def forward(self, x, t, **kwargs):\n",
    "        # Complete code here\n",
    "        x = self.relu(self.conv1(x))\n",
    "        # Unet\n",
    "        residual_inputs = []\n",
    "        for downscale in self.downscales:\n",
    "            x = downscale(x, t)\n",
    "            residual_inputs.append(x)\n",
    "        for upscale in self.upscales:\n",
    "            residual_x = residual_inputs.pop()\n",
    "            # Add residual x as additional channels\n",
    "            x = torch.cat((x, residual_x), dim=1)\n",
    "            x = upscale(x, t)\n",
    "        return self.output(x)\n",
    "\n",
    "model = UNet()\n",
    "print(\"Num params: \", sum(p.numel() for p in model.parameters()))\n",
    "model"
   ]
  },
  {
   "cell_type": "code",
   "execution_count": 12,
   "metadata": {
    "executionInfo": {
     "elapsed": 1180,
     "status": "ok",
     "timestamp": 1706947764415,
     "user": {
      "displayName": "Prabin Sapal",
      "userId": "04405762510153688454"
     },
     "user_tz": -345
    },
    "id": "HM2wHTqPHauW"
   },
   "outputs": [],
   "source": [
    "#! Define Diffusion Model\n",
    "diffusion_model = DiffusionModel()\n",
    "\n",
    "#! Define Unet\n",
    "unet = UNet().to(DEVICE)\n",
    "\n",
    "#! Define Optimizer\n",
    "optimizer = torch.optim.Adam(unet.parameters(), lr=LR)"
   ]
  },
  {
   "cell_type": "code",
   "execution_count": 14,
   "metadata": {
    "colab": {
     "base_uri": "https://localhost:8080/"
    },
    "executionInfo": {
     "elapsed": 616338,
     "status": "ok",
     "timestamp": 1706948384409,
     "user": {
      "displayName": "Prabin Sapal",
      "userId": "04405762510153688454"
     },
     "user_tz": -345
    },
    "id": "U6whrB7-fVbh",
    "outputId": "db948ab1-5de3-4bb6-dbce-fbd8e8a2ebe9"
   },
   "outputs": [
    {
     "name": "stderr",
     "output_type": "stream",
     "text": [
      "  0%|                                                                               | 1/10000 [00:07<19:52:02,  7.15s/it]"
     ]
    },
    {
     "name": "stdout",
     "output_type": "stream",
     "text": [
      "Current epoch: 0 ------ loss: 1.0241875648498535 ----------\n"
     ]
    },
    {
     "name": "stderr",
     "output_type": "stream",
     "text": [
      "  1%|▊                                                                               | 102/10000 [00:19<19:38,  8.40it/s]"
     ]
    },
    {
     "name": "stdout",
     "output_type": "stream",
     "text": [
      "Current epoch: 100 ------ loss: 0.1168253943324089 ----------\n"
     ]
    },
    {
     "name": "stderr",
     "output_type": "stream",
     "text": [
      "  2%|█▌                                                                              | 202/10000 [00:31<19:26,  8.40it/s]"
     ]
    },
    {
     "name": "stdout",
     "output_type": "stream",
     "text": [
      "Current epoch: 200 ------ loss: 0.21618153154850006 ----------\n"
     ]
    },
    {
     "name": "stderr",
     "output_type": "stream",
     "text": [
      "  3%|██▍                                                                             | 302/10000 [00:43<19:14,  8.40it/s]"
     ]
    },
    {
     "name": "stdout",
     "output_type": "stream",
     "text": [
      "Current epoch: 300 ------ loss: 0.047934677451848984 ----------\n"
     ]
    },
    {
     "name": "stderr",
     "output_type": "stream",
     "text": [
      "  4%|███▏                                                                            | 402/10000 [00:54<19:05,  8.38it/s]"
     ]
    },
    {
     "name": "stdout",
     "output_type": "stream",
     "text": [
      "Current epoch: 400 ------ loss: 0.05663153529167175 ----------\n"
     ]
    },
    {
     "name": "stderr",
     "output_type": "stream",
     "text": [
      "  5%|████                                                                            | 502/10000 [01:06<18:54,  8.37it/s]"
     ]
    },
    {
     "name": "stdout",
     "output_type": "stream",
     "text": [
      "Current epoch: 500 ------ loss: 0.05388564243912697 ----------\n"
     ]
    },
    {
     "name": "stderr",
     "output_type": "stream",
     "text": [
      "  6%|████▊                                                                           | 602/10000 [01:18<18:42,  8.37it/s]"
     ]
    },
    {
     "name": "stdout",
     "output_type": "stream",
     "text": [
      "Current epoch: 600 ------ loss: 0.07494785636663437 ----------\n"
     ]
    },
    {
     "name": "stderr",
     "output_type": "stream",
     "text": [
      "  7%|█████▌                                                                          | 702/10000 [01:30<18:31,  8.37it/s]"
     ]
    },
    {
     "name": "stdout",
     "output_type": "stream",
     "text": [
      "Current epoch: 700 ------ loss: 0.0516185462474823 ----------\n"
     ]
    },
    {
     "name": "stderr",
     "output_type": "stream",
     "text": [
      "  8%|██████▍                                                                         | 802/10000 [01:42<18:19,  8.37it/s]"
     ]
    },
    {
     "name": "stdout",
     "output_type": "stream",
     "text": [
      "Current epoch: 800 ------ loss: 0.03696610778570175 ----------\n"
     ]
    },
    {
     "name": "stderr",
     "output_type": "stream",
     "text": [
      "  9%|███████▏                                                                        | 902/10000 [01:54<18:09,  8.35it/s]"
     ]
    },
    {
     "name": "stdout",
     "output_type": "stream",
     "text": [
      "Current epoch: 900 ------ loss: 0.08149661123752594 ----------\n"
     ]
    },
    {
     "name": "stderr",
     "output_type": "stream",
     "text": [
      " 10%|███████▉                                                                       | 1002/10000 [02:06<17:58,  8.34it/s]"
     ]
    },
    {
     "name": "stdout",
     "output_type": "stream",
     "text": [
      "Current epoch: 1000 ------ loss: 0.10120085626840591 ----------\n"
     ]
    },
    {
     "name": "stderr",
     "output_type": "stream",
     "text": [
      " 11%|████████▋                                                                      | 1102/10000 [02:18<17:46,  8.34it/s]"
     ]
    },
    {
     "name": "stdout",
     "output_type": "stream",
     "text": [
      "Current epoch: 1100 ------ loss: 0.022844165563583374 ----------\n"
     ]
    },
    {
     "name": "stderr",
     "output_type": "stream",
     "text": [
      " 12%|█████████▍                                                                     | 1202/10000 [02:30<17:32,  8.36it/s]"
     ]
    },
    {
     "name": "stdout",
     "output_type": "stream",
     "text": [
      "Current epoch: 1200 ------ loss: 0.027476130053400993 ----------\n"
     ]
    },
    {
     "name": "stderr",
     "output_type": "stream",
     "text": [
      " 13%|██████████▎                                                                    | 1302/10000 [02:42<17:22,  8.34it/s]"
     ]
    },
    {
     "name": "stdout",
     "output_type": "stream",
     "text": [
      "Current epoch: 1300 ------ loss: 0.1263360232114792 ----------\n"
     ]
    },
    {
     "name": "stderr",
     "output_type": "stream",
     "text": [
      " 14%|███████████                                                                    | 1402/10000 [02:54<17:09,  8.35it/s]"
     ]
    },
    {
     "name": "stdout",
     "output_type": "stream",
     "text": [
      "Current epoch: 1400 ------ loss: 0.018123619258403778 ----------\n"
     ]
    },
    {
     "name": "stderr",
     "output_type": "stream",
     "text": [
      " 15%|███████████▊                                                                   | 1502/10000 [03:06<16:56,  8.36it/s]"
     ]
    },
    {
     "name": "stdout",
     "output_type": "stream",
     "text": [
      "Current epoch: 1500 ------ loss: 0.03420677408576012 ----------\n"
     ]
    },
    {
     "name": "stderr",
     "output_type": "stream",
     "text": [
      " 16%|████████████▋                                                                  | 1602/10000 [03:18<16:44,  8.36it/s]"
     ]
    },
    {
     "name": "stdout",
     "output_type": "stream",
     "text": [
      "Current epoch: 1600 ------ loss: 0.1729242503643036 ----------\n"
     ]
    },
    {
     "name": "stderr",
     "output_type": "stream",
     "text": [
      " 17%|█████████████▍                                                                 | 1702/10000 [03:30<16:32,  8.36it/s]"
     ]
    },
    {
     "name": "stdout",
     "output_type": "stream",
     "text": [
      "Current epoch: 1700 ------ loss: 0.03872454911470413 ----------\n"
     ]
    },
    {
     "name": "stderr",
     "output_type": "stream",
     "text": [
      " 18%|██████████████▏                                                                | 1802/10000 [03:42<16:20,  8.36it/s]"
     ]
    },
    {
     "name": "stdout",
     "output_type": "stream",
     "text": [
      "Current epoch: 1800 ------ loss: 0.024403605610132217 ----------\n"
     ]
    },
    {
     "name": "stderr",
     "output_type": "stream",
     "text": [
      " 19%|███████████████                                                                | 1902/10000 [03:54<16:10,  8.35it/s]"
     ]
    },
    {
     "name": "stdout",
     "output_type": "stream",
     "text": [
      "Current epoch: 1900 ------ loss: 0.012686564587056637 ----------\n"
     ]
    },
    {
     "name": "stderr",
     "output_type": "stream",
     "text": [
      " 20%|███████████████▊                                                               | 2002/10000 [04:06<16:02,  8.31it/s]"
     ]
    },
    {
     "name": "stdout",
     "output_type": "stream",
     "text": [
      "Current epoch: 2000 ------ loss: 0.016804512590169907 ----------\n"
     ]
    },
    {
     "name": "stderr",
     "output_type": "stream",
     "text": [
      " 21%|████████████████▌                                                              | 2102/10000 [04:18<15:57,  8.25it/s]"
     ]
    },
    {
     "name": "stdout",
     "output_type": "stream",
     "text": [
      "Current epoch: 2100 ------ loss: 0.014153103344142437 ----------\n"
     ]
    },
    {
     "name": "stderr",
     "output_type": "stream",
     "text": [
      " 22%|█████████████████▍                                                             | 2202/10000 [04:30<15:35,  8.34it/s]"
     ]
    },
    {
     "name": "stdout",
     "output_type": "stream",
     "text": [
      "Current epoch: 2200 ------ loss: 0.10618115216493607 ----------\n"
     ]
    },
    {
     "name": "stderr",
     "output_type": "stream",
     "text": [
      " 23%|██████████████████▏                                                            | 2302/10000 [04:42<15:24,  8.33it/s]"
     ]
    },
    {
     "name": "stdout",
     "output_type": "stream",
     "text": [
      "Current epoch: 2300 ------ loss: 0.08412453532218933 ----------\n"
     ]
    },
    {
     "name": "stderr",
     "output_type": "stream",
     "text": [
      " 24%|██████████████████▉                                                            | 2402/10000 [04:54<15:20,  8.25it/s]"
     ]
    },
    {
     "name": "stdout",
     "output_type": "stream",
     "text": [
      "Current epoch: 2400 ------ loss: 0.1007036417722702 ----------\n"
     ]
    },
    {
     "name": "stderr",
     "output_type": "stream",
     "text": [
      " 25%|███████████████████▊                                                           | 2502/10000 [05:06<14:56,  8.36it/s]"
     ]
    },
    {
     "name": "stdout",
     "output_type": "stream",
     "text": [
      "Current epoch: 2500 ------ loss: 0.023087112233042717 ----------\n"
     ]
    },
    {
     "name": "stderr",
     "output_type": "stream",
     "text": [
      " 26%|████████████████████▌                                                          | 2602/10000 [05:18<14:52,  8.29it/s]"
     ]
    },
    {
     "name": "stdout",
     "output_type": "stream",
     "text": [
      "Current epoch: 2600 ------ loss: 0.030260130763053894 ----------\n"
     ]
    },
    {
     "name": "stderr",
     "output_type": "stream",
     "text": [
      " 27%|█████████████████████▎                                                         | 2702/10000 [05:30<14:58,  8.12it/s]"
     ]
    },
    {
     "name": "stdout",
     "output_type": "stream",
     "text": [
      "Current epoch: 2700 ------ loss: 0.025073489174246788 ----------\n"
     ]
    },
    {
     "name": "stderr",
     "output_type": "stream",
     "text": [
      " 28%|██████████████████████▏                                                        | 2802/10000 [05:43<14:38,  8.19it/s]"
     ]
    },
    {
     "name": "stdout",
     "output_type": "stream",
     "text": [
      "Current epoch: 2800 ------ loss: 0.01083206757903099 ----------\n"
     ]
    },
    {
     "name": "stderr",
     "output_type": "stream",
     "text": [
      " 29%|██████████████████████▉                                                        | 2902/10000 [05:55<14:25,  8.20it/s]"
     ]
    },
    {
     "name": "stdout",
     "output_type": "stream",
     "text": [
      "Current epoch: 2900 ------ loss: 0.01791832223534584 ----------\n"
     ]
    },
    {
     "name": "stderr",
     "output_type": "stream",
     "text": [
      " 30%|███████████████████████▋                                                       | 3002/10000 [06:07<14:00,  8.32it/s]"
     ]
    },
    {
     "name": "stdout",
     "output_type": "stream",
     "text": [
      "Current epoch: 3000 ------ loss: 0.04295645281672478 ----------\n"
     ]
    },
    {
     "name": "stderr",
     "output_type": "stream",
     "text": [
      " 31%|████████████████████████▌                                                      | 3102/10000 [06:19<13:45,  8.36it/s]"
     ]
    },
    {
     "name": "stdout",
     "output_type": "stream",
     "text": [
      "Current epoch: 3100 ------ loss: 0.04536391422152519 ----------\n"
     ]
    },
    {
     "name": "stderr",
     "output_type": "stream",
     "text": [
      " 32%|█████████████████████████▎                                                     | 3202/10000 [06:31<13:36,  8.33it/s]"
     ]
    },
    {
     "name": "stdout",
     "output_type": "stream",
     "text": [
      "Current epoch: 3200 ------ loss: 0.0292953047901392 ----------\n"
     ]
    },
    {
     "name": "stderr",
     "output_type": "stream",
     "text": [
      " 33%|██████████████████████████                                                     | 3302/10000 [06:43<13:26,  8.30it/s]"
     ]
    },
    {
     "name": "stdout",
     "output_type": "stream",
     "text": [
      "Current epoch: 3300 ------ loss: 0.010251770727336407 ----------\n"
     ]
    },
    {
     "name": "stderr",
     "output_type": "stream",
     "text": [
      " 34%|██████████████████████████▉                                                    | 3402/10000 [06:55<13:09,  8.35it/s]"
     ]
    },
    {
     "name": "stdout",
     "output_type": "stream",
     "text": [
      "Current epoch: 3400 ------ loss: 0.030828949064016342 ----------\n"
     ]
    },
    {
     "name": "stderr",
     "output_type": "stream",
     "text": [
      " 35%|███████████████████████████▋                                                   | 3502/10000 [07:07<12:59,  8.33it/s]"
     ]
    },
    {
     "name": "stdout",
     "output_type": "stream",
     "text": [
      "Current epoch: 3500 ------ loss: 0.019933601841330528 ----------\n"
     ]
    },
    {
     "name": "stderr",
     "output_type": "stream",
     "text": [
      " 36%|████████████████████████████▍                                                  | 3602/10000 [07:19<12:45,  8.36it/s]"
     ]
    },
    {
     "name": "stdout",
     "output_type": "stream",
     "text": [
      "Current epoch: 3600 ------ loss: 0.012167390435934067 ----------\n"
     ]
    },
    {
     "name": "stderr",
     "output_type": "stream",
     "text": [
      " 37%|█████████████████████████████▏                                                 | 3702/10000 [07:31<12:41,  8.27it/s]"
     ]
    },
    {
     "name": "stdout",
     "output_type": "stream",
     "text": [
      "Current epoch: 3700 ------ loss: 0.010965677909553051 ----------\n"
     ]
    },
    {
     "name": "stderr",
     "output_type": "stream",
     "text": [
      " 38%|██████████████████████████████                                                 | 3802/10000 [07:44<12:38,  8.17it/s]"
     ]
    },
    {
     "name": "stdout",
     "output_type": "stream",
     "text": [
      "Current epoch: 3800 ------ loss: 0.009088519029319286 ----------\n"
     ]
    },
    {
     "name": "stderr",
     "output_type": "stream",
     "text": [
      " 39%|██████████████████████████████▊                                                | 3902/10000 [07:56<12:09,  8.36it/s]"
     ]
    },
    {
     "name": "stdout",
     "output_type": "stream",
     "text": [
      "Current epoch: 3900 ------ loss: 0.01367809809744358 ----------\n"
     ]
    },
    {
     "name": "stderr",
     "output_type": "stream",
     "text": [
      " 40%|███████████████████████████████▌                                               | 4002/10000 [08:08<12:02,  8.30it/s]"
     ]
    },
    {
     "name": "stdout",
     "output_type": "stream",
     "text": [
      "Current epoch: 4000 ------ loss: 0.009212230332195759 ----------\n"
     ]
    },
    {
     "name": "stderr",
     "output_type": "stream",
     "text": [
      " 41%|████████████████████████████████▍                                              | 4102/10000 [08:20<12:09,  8.08it/s]"
     ]
    },
    {
     "name": "stdout",
     "output_type": "stream",
     "text": [
      "Current epoch: 4100 ------ loss: 0.015087682753801346 ----------\n"
     ]
    },
    {
     "name": "stderr",
     "output_type": "stream",
     "text": [
      " 42%|█████████████████████████████████▏                                             | 4202/10000 [08:32<11:36,  8.32it/s]"
     ]
    },
    {
     "name": "stdout",
     "output_type": "stream",
     "text": [
      "Current epoch: 4200 ------ loss: 0.06755384057760239 ----------\n"
     ]
    },
    {
     "name": "stderr",
     "output_type": "stream",
     "text": [
      " 43%|█████████████████████████████████▉                                             | 4302/10000 [08:44<11:26,  8.30it/s]"
     ]
    },
    {
     "name": "stdout",
     "output_type": "stream",
     "text": [
      "Current epoch: 4300 ------ loss: 0.023335803300142288 ----------\n"
     ]
    },
    {
     "name": "stderr",
     "output_type": "stream",
     "text": [
      " 44%|██████████████████████████████████▊                                            | 4402/10000 [08:56<11:27,  8.14it/s]"
     ]
    },
    {
     "name": "stdout",
     "output_type": "stream",
     "text": [
      "Current epoch: 4400 ------ loss: 0.0227817315608263 ----------\n"
     ]
    },
    {
     "name": "stderr",
     "output_type": "stream",
     "text": [
      " 45%|███████████████████████████████████▌                                           | 4502/10000 [09:08<10:57,  8.36it/s]"
     ]
    },
    {
     "name": "stdout",
     "output_type": "stream",
     "text": [
      "Current epoch: 4500 ------ loss: 0.01676989533007145 ----------\n"
     ]
    },
    {
     "name": "stderr",
     "output_type": "stream",
     "text": [
      " 46%|████████████████████████████████████▎                                          | 4602/10000 [09:20<10:46,  8.35it/s]"
     ]
    },
    {
     "name": "stdout",
     "output_type": "stream",
     "text": [
      "Current epoch: 4600 ------ loss: 0.04832926020026207 ----------\n"
     ]
    },
    {
     "name": "stderr",
     "output_type": "stream",
     "text": [
      " 47%|█████████████████████████████████████▏                                         | 4702/10000 [09:32<10:36,  8.33it/s]"
     ]
    },
    {
     "name": "stdout",
     "output_type": "stream",
     "text": [
      "Current epoch: 4700 ------ loss: 0.006865852512419224 ----------\n"
     ]
    },
    {
     "name": "stderr",
     "output_type": "stream",
     "text": [
      " 48%|█████████████████████████████████████▉                                         | 4802/10000 [09:44<10:33,  8.20it/s]"
     ]
    },
    {
     "name": "stdout",
     "output_type": "stream",
     "text": [
      "Current epoch: 4800 ------ loss: 0.01840043254196644 ----------\n"
     ]
    },
    {
     "name": "stderr",
     "output_type": "stream",
     "text": [
      " 49%|██████████████████████████████████████▋                                        | 4902/10000 [09:57<10:16,  8.27it/s]"
     ]
    },
    {
     "name": "stdout",
     "output_type": "stream",
     "text": [
      "Current epoch: 4900 ------ loss: 0.023862699046730995 ----------\n"
     ]
    },
    {
     "name": "stderr",
     "output_type": "stream",
     "text": [
      " 50%|███████████████████████████████████████▌                                       | 5002/10000 [10:09<10:00,  8.32it/s]"
     ]
    },
    {
     "name": "stdout",
     "output_type": "stream",
     "text": [
      "Current epoch: 5000 ------ loss: 0.021072885021567345 ----------\n"
     ]
    },
    {
     "name": "stderr",
     "output_type": "stream",
     "text": [
      " 51%|████████████████████████████████████████▎                                      | 5102/10000 [10:21<09:47,  8.34it/s]"
     ]
    },
    {
     "name": "stdout",
     "output_type": "stream",
     "text": [
      "Current epoch: 5100 ------ loss: 0.012067663483321667 ----------\n"
     ]
    },
    {
     "name": "stderr",
     "output_type": "stream",
     "text": [
      " 52%|█████████████████████████████████████████                                      | 5202/10000 [10:33<09:40,  8.27it/s]"
     ]
    },
    {
     "name": "stdout",
     "output_type": "stream",
     "text": [
      "Current epoch: 5200 ------ loss: 0.009158196859061718 ----------\n"
     ]
    },
    {
     "name": "stderr",
     "output_type": "stream",
     "text": [
      " 53%|█████████████████████████████████████████▉                                     | 5302/10000 [10:45<09:36,  8.15it/s]"
     ]
    },
    {
     "name": "stdout",
     "output_type": "stream",
     "text": [
      "Current epoch: 5300 ------ loss: 0.005934223998337984 ----------\n"
     ]
    },
    {
     "name": "stderr",
     "output_type": "stream",
     "text": [
      " 54%|██████████████████████████████████████████▋                                    | 5402/10000 [10:57<09:23,  8.16it/s]"
     ]
    },
    {
     "name": "stdout",
     "output_type": "stream",
     "text": [
      "Current epoch: 5400 ------ loss: 0.026496678590774536 ----------\n"
     ]
    },
    {
     "name": "stderr",
     "output_type": "stream",
     "text": [
      " 55%|███████████████████████████████████████████▍                                   | 5502/10000 [11:09<08:59,  8.33it/s]"
     ]
    },
    {
     "name": "stdout",
     "output_type": "stream",
     "text": [
      "Current epoch: 5500 ------ loss: 0.015065928921103477 ----------\n"
     ]
    },
    {
     "name": "stderr",
     "output_type": "stream",
     "text": [
      " 56%|████████████████████████████████████████████▎                                  | 5602/10000 [11:22<08:54,  8.23it/s]"
     ]
    },
    {
     "name": "stdout",
     "output_type": "stream",
     "text": [
      "Current epoch: 5600 ------ loss: 0.009372154250741005 ----------\n"
     ]
    },
    {
     "name": "stderr",
     "output_type": "stream",
     "text": [
      " 57%|█████████████████████████████████████████████                                  | 5702/10000 [11:34<08:37,  8.30it/s]"
     ]
    },
    {
     "name": "stdout",
     "output_type": "stream",
     "text": [
      "Current epoch: 5700 ------ loss: 0.007059585303068161 ----------\n"
     ]
    },
    {
     "name": "stderr",
     "output_type": "stream",
     "text": [
      " 58%|█████████████████████████████████████████████▊                                 | 5802/10000 [11:46<08:35,  8.14it/s]"
     ]
    },
    {
     "name": "stdout",
     "output_type": "stream",
     "text": [
      "Current epoch: 5800 ------ loss: 0.008480897173285484 ----------\n"
     ]
    },
    {
     "name": "stderr",
     "output_type": "stream",
     "text": [
      " 59%|██████████████████████████████████████████████▋                                | 5902/10000 [11:58<08:20,  8.19it/s]"
     ]
    },
    {
     "name": "stdout",
     "output_type": "stream",
     "text": [
      "Current epoch: 5900 ------ loss: 0.01043330505490303 ----------\n"
     ]
    },
    {
     "name": "stderr",
     "output_type": "stream",
     "text": [
      " 60%|███████████████████████████████████████████████▍                               | 6002/10000 [12:10<08:01,  8.30it/s]"
     ]
    },
    {
     "name": "stdout",
     "output_type": "stream",
     "text": [
      "Current epoch: 6000 ------ loss: 0.007892036810517311 ----------\n"
     ]
    },
    {
     "name": "stderr",
     "output_type": "stream",
     "text": [
      " 61%|████████████████████████████████████████████████▏                              | 6102/10000 [12:22<07:53,  8.23it/s]"
     ]
    },
    {
     "name": "stdout",
     "output_type": "stream",
     "text": [
      "Current epoch: 6100 ------ loss: 0.007636270485818386 ----------\n"
     ]
    },
    {
     "name": "stderr",
     "output_type": "stream",
     "text": [
      " 62%|████████████████████████████████████████████████▉                              | 6202/10000 [12:34<07:35,  8.35it/s]"
     ]
    },
    {
     "name": "stdout",
     "output_type": "stream",
     "text": [
      "Current epoch: 6200 ------ loss: 0.005974422208964825 ----------\n"
     ]
    },
    {
     "name": "stderr",
     "output_type": "stream",
     "text": [
      " 63%|█████████████████████████████████████████████████▊                             | 6302/10000 [12:46<07:25,  8.30it/s]"
     ]
    },
    {
     "name": "stdout",
     "output_type": "stream",
     "text": [
      "Current epoch: 6300 ------ loss: 0.014197250828146935 ----------\n"
     ]
    },
    {
     "name": "stderr",
     "output_type": "stream",
     "text": [
      " 64%|██████████████████████████████████████████████████▌                            | 6402/10000 [12:58<07:18,  8.20it/s]"
     ]
    },
    {
     "name": "stdout",
     "output_type": "stream",
     "text": [
      "Current epoch: 6400 ------ loss: 0.009560744278132915 ----------\n"
     ]
    },
    {
     "name": "stderr",
     "output_type": "stream",
     "text": [
      " 65%|███████████████████████████████████████████████████▎                           | 6502/10000 [13:10<07:01,  8.29it/s]"
     ]
    },
    {
     "name": "stdout",
     "output_type": "stream",
     "text": [
      "Current epoch: 6500 ------ loss: 0.019313201308250427 ----------\n"
     ]
    },
    {
     "name": "stderr",
     "output_type": "stream",
     "text": [
      " 66%|████████████████████████████████████████████████████▏                          | 6602/10000 [13:22<06:51,  8.25it/s]"
     ]
    },
    {
     "name": "stdout",
     "output_type": "stream",
     "text": [
      "Current epoch: 6600 ------ loss: 0.005205343943089247 ----------\n"
     ]
    },
    {
     "name": "stderr",
     "output_type": "stream",
     "text": [
      " 67%|████████████████████████████████████████████████████▉                          | 6702/10000 [13:34<06:46,  8.11it/s]"
     ]
    },
    {
     "name": "stdout",
     "output_type": "stream",
     "text": [
      "Current epoch: 6700 ------ loss: 0.014810634776949883 ----------\n"
     ]
    },
    {
     "name": "stderr",
     "output_type": "stream",
     "text": [
      " 68%|█████████████████████████████████████████████████████▋                         | 6802/10000 [13:46<06:36,  8.06it/s]"
     ]
    },
    {
     "name": "stdout",
     "output_type": "stream",
     "text": [
      "Current epoch: 6800 ------ loss: 0.008771334774792194 ----------\n"
     ]
    },
    {
     "name": "stderr",
     "output_type": "stream",
     "text": [
      " 69%|██████████████████████████████████████████████████████▌                        | 6902/10000 [13:59<06:13,  8.30it/s]"
     ]
    },
    {
     "name": "stdout",
     "output_type": "stream",
     "text": [
      "Current epoch: 6900 ------ loss: 0.007470885291695595 ----------\n"
     ]
    },
    {
     "name": "stderr",
     "output_type": "stream",
     "text": [
      " 70%|███████████████████████████████████████████████████████▎                       | 7002/10000 [14:11<06:00,  8.32it/s]"
     ]
    },
    {
     "name": "stdout",
     "output_type": "stream",
     "text": [
      "Current epoch: 7000 ------ loss: 0.01909034140408039 ----------\n"
     ]
    },
    {
     "name": "stderr",
     "output_type": "stream",
     "text": [
      " 71%|████████████████████████████████████████████████████████                       | 7102/10000 [14:23<05:47,  8.34it/s]"
     ]
    },
    {
     "name": "stdout",
     "output_type": "stream",
     "text": [
      "Current epoch: 7100 ------ loss: 0.007710203994065523 ----------\n"
     ]
    },
    {
     "name": "stderr",
     "output_type": "stream",
     "text": [
      " 72%|████████████████████████████████████████████████████████▉                      | 7202/10000 [14:34<05:35,  8.34it/s]"
     ]
    },
    {
     "name": "stdout",
     "output_type": "stream",
     "text": [
      "Current epoch: 7200 ------ loss: 0.006972841918468475 ----------\n"
     ]
    },
    {
     "name": "stderr",
     "output_type": "stream",
     "text": [
      " 73%|█████████████████████████████████████████████████████████▋                     | 7302/10000 [14:46<05:22,  8.35it/s]"
     ]
    },
    {
     "name": "stdout",
     "output_type": "stream",
     "text": [
      "Current epoch: 7300 ------ loss: 0.04235837981104851 ----------\n"
     ]
    },
    {
     "name": "stderr",
     "output_type": "stream",
     "text": [
      " 74%|██████████████████████████████████████████████████████████▍                    | 7402/10000 [14:58<05:11,  8.35it/s]"
     ]
    },
    {
     "name": "stdout",
     "output_type": "stream",
     "text": [
      "Current epoch: 7400 ------ loss: 0.013154572807252407 ----------\n"
     ]
    },
    {
     "name": "stderr",
     "output_type": "stream",
     "text": [
      " 75%|██████████████████████████████████████████████████████████▉                    | 7466/10000 [15:06<05:02,  8.37it/s]"
     ]
    },
    {
     "name": "stdout",
     "output_type": "stream",
     "text": [
      "loss less than margin---------- 0.0038284542970359325 ------ 0.004\n"
     ]
    },
    {
     "name": "stderr",
     "output_type": "stream",
     "text": [
      " 75%|██████████████████████████████████████████████████████████▉                    | 7466/10000 [15:07<05:07,  8.23it/s]\n"
     ]
    }
   ],
   "source": [
    "#! Training\n",
    "MODEL_DIR = f\"{SAVE_MODEL_DIR}/trained-model.pt\"\n",
    "for epoch in tqdm(range(NO_EPOCHS)):\n",
    "    # 1. Get B random integers between (0, timestep)\n",
    "    # Hint use: torch.randint()\n",
    "    t = torch.randint(0, 300, (BATCH_SIZE,)).to(DEVICE)\n",
    "\n",
    "    # 2. Forward diffuse each image with different timestep values\n",
    "    # Hint use: diffusion_model.forward() function\n",
    "    img_plus_noise, noise = diffusion_model.forward(batch, t, DEVICE)\n",
    "    # 3. Predict the noise in this batch using Unet\n",
    "    predicted_noise = unet(img_plus_noise, t, labels=label)\n",
    "\n",
    "    # 4. Calculate the MSE loss between actual noise and predicted noise\n",
    "    # Hint use: torch.nn.functional.mse_loss\n",
    "    mse_loss = nn.functional.mse_loss(noise, predicted_noise)\n",
    "    # 5. Make all gradients zero\n",
    "    optimizer.zero_grad()\n",
    "\n",
    "    # 6. Calculate Gradients\n",
    "    mse_loss.backward()\n",
    "\n",
    "    # 7. Update the Model\n",
    "    optimizer.step()\n",
    "\n",
    "    # 8. Print the Loss on the intervel of given PRINT_FREQUENCY\n",
    "    if epoch % PRINT_FREQUENCY == 0:\n",
    "      print(f\"Current epoch: {epoch} ------ loss: {mse_loss} ----------\")\n",
    "\n",
    "\n",
    "    # 9. if loss < MARGIN, save the model and exit the training process\n",
    "    # Hint use torch.save() and model.state_dict()\n",
    "    if mse_loss < MARGIN:\n",
    "      print(f\"loss less than margin---------- {mse_loss} ------ {MARGIN}\")\n",
    "      torch.save(unet.state_dict(), MODEL_DIR)\n",
    "      break\n",
    "\n",
    "# 10. save the model once more at the end\n",
    "torch.save(unet, MODEL_DIR)"
   ]
  },
  {
   "cell_type": "code",
   "execution_count": 15,
   "metadata": {
    "executionInfo": {
     "elapsed": 424,
     "status": "ok",
     "timestamp": 1706948798238,
     "user": {
      "displayName": "Prabin Sapal",
      "userId": "04405762510153688454"
     },
     "user_tz": -345
    },
    "id": "dig7VZE8gAFP"
   },
   "outputs": [],
   "source": [
    "#! Reverse DIffusion\n",
    "LABEL = 1"
   ]
  },
  {
   "cell_type": "code",
   "execution_count": 17,
   "metadata": {
    "colab": {
     "base_uri": "https://localhost:8080/"
    },
    "executionInfo": {
     "elapsed": 12137,
     "status": "ok",
     "timestamp": 1706948813292,
     "user": {
      "displayName": "Prabin Sapal",
      "userId": "04405762510153688454"
     },
     "user_tz": -345
    },
    "id": "2cUl-SEOgX0k",
    "outputId": "9a4d178a-6fe3-4ee5-f3dd-b1f6d58230a3"
   },
   "outputs": [
    {
     "name": "stderr",
     "output_type": "stream",
     "text": [
      "300it [00:05, 51.31it/s]\n"
     ]
    }
   ],
   "source": [
    "with torch.no_grad():\n",
    "    # 1. Generate random noise\n",
    "    img = torch.randn((1, 3) + IMAGE_SHAPE).to(DEVICE)\n",
    "    for i in tqdm(reversed(range(diffusion_model.timesteps))):\n",
    "\n",
    "        t = torch.full((1,), i, dtype=torch.long, device=DEVICE)\n",
    "        l = torch.tensor(LABEL, dtype=torch.float, device=DEVICE).reshape(-1,1)\n",
    "\n",
    "        # Reverse diffusion\n",
    "        img = diffusion_model.backward(img, t, unet.eval(), labels = l)\n",
    "\n",
    "        img_np = utils.reverse_transform(img[0])\n",
    "        img_np = img_np.resize((256, 256))\n",
    "        img_np.save(f\"{SAVE_MODEL_DIR}/output-img/L{LABEL}-{i}.png\")"
   ]
  },
  {
   "cell_type": "code",
   "execution_count": 18,
   "metadata": {},
   "outputs": [
    {
     "data": {
      "text/plain": [
       "300"
      ]
     },
     "execution_count": 18,
     "metadata": {},
     "output_type": "execute_result"
    }
   ],
   "source": [
    "diffusion_model.timesteps"
   ]
  },
  {
   "cell_type": "code",
   "execution_count": null,
   "metadata": {},
   "outputs": [],
   "source": []
  }
 ],
 "metadata": {
  "accelerator": "GPU",
  "colab": {
   "gpuType": "T4",
   "provenance": []
  },
  "kernelspec": {
   "display_name": "Python 3 (ipykernel)",
   "language": "python",
   "name": "python3"
  },
  "language_info": {
   "codemirror_mode": {
    "name": "ipython",
    "version": 3
   },
   "file_extension": ".py",
   "mimetype": "text/x-python",
   "name": "python",
   "nbconvert_exporter": "python",
   "pygments_lexer": "ipython3",
   "version": "3.12.4"
  }
 },
 "nbformat": 4,
 "nbformat_minor": 4
}
